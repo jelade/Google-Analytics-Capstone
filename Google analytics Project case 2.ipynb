{
 "cells": [
  {
   "cell_type": "markdown",
   "id": "a4ba1c71",
   "metadata": {},
   "source": [
    "# Google Data Analytics Certificate\n",
    "\n",
    "## Capstone Project: Case study II\n",
    "\n",
    "\n",
    "            \n",
    "\n",
    "\n"
   ]
  },
  {
   "cell_type": "markdown",
   "id": "624197eb",
   "metadata": {},
   "source": [
    "## Introduction\n",
    "\n",
    "Bellabeat is a high-tech manufacturer of health-focused products for women. Urška Sršen and Sando Mur are the founder of the company. Sršen used her background as an artist to develop beautifully designed technology that informs and inspires women around the world. Collecting data on activity, sleep, stress, and reproductive health has allowed Bellabeat to empower women with knowledge about their own health and habits. Since it was founded in 2013, Bellabeat has grown rapidly and quickly positioned itself as a tech-driven wellness company for women.\n",
    "\n",
    "\n",
    "## Ask\n",
    "\n",
    "> **Objective of the Report**\n",
    "\n",
    "Analyzing smart device usage data in order to gain insight into how consumers use non-Bellabeat smart devices. Select one Bellabeat product to apply these insights.\n",
    "\n",
    "What to observe from the insight:\n",
    "\n",
    "- What are some trends in smart device usage?\n",
    "- How could these trends apply to Bellabeat customers?\n",
    "- How could these trends help influence Bellabeat marketing strategy?\n"
   ]
  },
  {
   "cell_type": "markdown",
   "id": "d81a02d5",
   "metadata": {},
   "source": [
    "## Prepare\n",
    "\n",
    "> **Data Used**\n",
    "\n",
    "The data used for this study was downloaded from kaggle. The data contains personal fitness tracker from thirty fitbit users. Thirty eligible Fitbit users consented to the submission of personal tracker data, including minute-level output for physical activity, heart rate, and sleep monitoring. It includes information about daily activity, steps, and heart rate that can be used to explore users’ habits.\n",
    "\n",
    "> **Data Characteristics**\n",
    "\n",
    "1. The data was downloaded as a zip file which contains many csv files on different personal tracker data. Each csv file contain a long formated data.\n",
    "2. The data was only collected for 33 user with unique ID.\n",
    "3. After sorting the data, we saw that the it will answer the report objectives.\n",
    "3. One of the dataset (Sleep data) have some missing users."
   ]
  },
  {
   "cell_type": "markdown",
   "id": "2a876dfa",
   "metadata": {},
   "source": [
    "## Process\n",
    "\n",
    "> Tools used : Python and Ms excel\n",
    "\n"
   ]
  },
  {
   "cell_type": "markdown",
   "id": "1ce3ec5c",
   "metadata": {},
   "source": [
    "#### Importation of needed Libraries\n",
    "\n",
    "The imported libraries are:\n",
    "\n",
    "- Pandas for data manipulation and cleaning\n",
    "- Numpy for calclation\n",
    "- Matplotlib and seaborn for visualization.\n",
    "- Datetime to deal with time variables in the data."
   ]
  },
  {
   "cell_type": "code",
   "execution_count": 1,
   "id": "8da5688f",
   "metadata": {},
   "outputs": [],
   "source": [
    "import pandas as pd\n",
    "import numpy as np\n",
    "import matplotlib.pyplot as plt\n",
    "import seaborn as sns\n",
    "import datetime as dt"
   ]
  },
  {
   "cell_type": "markdown",
   "id": "cc1cbcc7",
   "metadata": {},
   "source": [
    "### Dataset importaion\n",
    "\n",
    "The dataset needed for the report were imported as csv file. The analysis focus more on daily dataset. Hourly sleep data was used also in the process."
   ]
  },
  {
   "cell_type": "code",
   "execution_count": 2,
   "id": "a1e3c3e3",
   "metadata": {},
   "outputs": [],
   "source": [
    "#Import daily activities to explore the features\n",
    "daily_act = pd.read_csv(\"dailyActivity_merged.csv\")\n",
    "daily_cal = pd.read_csv(\"dailyCalories_merged.csv\")\n",
    "daily_int = pd.read_csv(\"dailyIntensities_merged.csv\")\n",
    "daily_stp = pd.read_csv(\"dailySteps_merged.csv\")\n",
    "hb = pd.read_csv(\"heartrate_seconds_merged.csv\")\n",
    "sleep = pd.read_csv(\"sleepDay_merged.csv\")\n",
    "weight = pd.read_csv(\"weightLogInfo_merged.csv\")\n",
    "hourly_stp = pd.read_csv(\"hourlySteps_merged.csv\")"
   ]
  },
  {
   "cell_type": "markdown",
   "id": "94ee40a2",
   "metadata": {},
   "source": [
    "#### Data Wrangling\n",
    "\n",
    "The dataset was preview and it was discovered that, all the important variable were already combine inside the dailyActivity_merged. We checked for the data type, shape, missing values, and summarization of the data characteristics."
   ]
  },
  {
   "cell_type": "code",
   "execution_count": 3,
   "id": "5d122bb9",
   "metadata": {},
   "outputs": [
    {
     "data": {
      "text/plain": [
       "(Index(['Id', 'ActivityDate', 'TotalSteps', 'TotalDistance', 'TrackerDistance',\n",
       "        'LoggedActivitiesDistance', 'VeryActiveDistance',\n",
       "        'ModeratelyActiveDistance', 'LightActiveDistance',\n",
       "        'SedentaryActiveDistance', 'VeryActiveMinutes', 'FairlyActiveMinutes',\n",
       "        'LightlyActiveMinutes', 'SedentaryMinutes', 'Calories'],\n",
       "       dtype='object'),\n",
       " Index(['Id', 'SleepDay', 'TotalSleepRecords', 'TotalMinutesAsleep',\n",
       "        'TotalTimeInBed'],\n",
       "       dtype='object'),\n",
       " Index(['Id', 'ActivityDay', 'Calories'], dtype='object'))"
      ]
     },
     "execution_count": 3,
     "metadata": {},
     "output_type": "execute_result"
    }
   ],
   "source": [
    "#Checking the variable names of some dataset\n",
    "daily_act.columns , sleep.columns, daily_cal.columns"
   ]
  },
  {
   "cell_type": "code",
   "execution_count": 4,
   "id": "88331ba3",
   "metadata": {},
   "outputs": [],
   "source": [
    "daily = daily_act.copy()"
   ]
  },
  {
   "cell_type": "code",
   "execution_count": 5,
   "id": "4ab7013f",
   "metadata": {},
   "outputs": [
    {
     "data": {
      "text/html": [
       "<div>\n",
       "<style scoped>\n",
       "    .dataframe tbody tr th:only-of-type {\n",
       "        vertical-align: middle;\n",
       "    }\n",
       "\n",
       "    .dataframe tbody tr th {\n",
       "        vertical-align: top;\n",
       "    }\n",
       "\n",
       "    .dataframe thead th {\n",
       "        text-align: right;\n",
       "    }\n",
       "</style>\n",
       "<table border=\"1\" class=\"dataframe\">\n",
       "  <thead>\n",
       "    <tr style=\"text-align: right;\">\n",
       "      <th></th>\n",
       "      <th>Id</th>\n",
       "      <th>ActivityDate</th>\n",
       "      <th>TotalSteps</th>\n",
       "      <th>TotalDistance</th>\n",
       "      <th>TrackerDistance</th>\n",
       "      <th>LoggedActivitiesDistance</th>\n",
       "      <th>VeryActiveDistance</th>\n",
       "      <th>ModeratelyActiveDistance</th>\n",
       "      <th>LightActiveDistance</th>\n",
       "      <th>SedentaryActiveDistance</th>\n",
       "      <th>VeryActiveMinutes</th>\n",
       "      <th>FairlyActiveMinutes</th>\n",
       "      <th>LightlyActiveMinutes</th>\n",
       "      <th>SedentaryMinutes</th>\n",
       "      <th>Calories</th>\n",
       "    </tr>\n",
       "  </thead>\n",
       "  <tbody>\n",
       "    <tr>\n",
       "      <th>0</th>\n",
       "      <td>1503960366</td>\n",
       "      <td>4/12/2016</td>\n",
       "      <td>13162</td>\n",
       "      <td>8.50</td>\n",
       "      <td>8.50</td>\n",
       "      <td>0.0</td>\n",
       "      <td>1.88</td>\n",
       "      <td>0.55</td>\n",
       "      <td>6.06</td>\n",
       "      <td>0.0</td>\n",
       "      <td>25</td>\n",
       "      <td>13</td>\n",
       "      <td>328</td>\n",
       "      <td>728</td>\n",
       "      <td>1985</td>\n",
       "    </tr>\n",
       "    <tr>\n",
       "      <th>1</th>\n",
       "      <td>1503960366</td>\n",
       "      <td>4/13/2016</td>\n",
       "      <td>10735</td>\n",
       "      <td>6.97</td>\n",
       "      <td>6.97</td>\n",
       "      <td>0.0</td>\n",
       "      <td>1.57</td>\n",
       "      <td>0.69</td>\n",
       "      <td>4.71</td>\n",
       "      <td>0.0</td>\n",
       "      <td>21</td>\n",
       "      <td>19</td>\n",
       "      <td>217</td>\n",
       "      <td>776</td>\n",
       "      <td>1797</td>\n",
       "    </tr>\n",
       "    <tr>\n",
       "      <th>2</th>\n",
       "      <td>1503960366</td>\n",
       "      <td>4/14/2016</td>\n",
       "      <td>10460</td>\n",
       "      <td>6.74</td>\n",
       "      <td>6.74</td>\n",
       "      <td>0.0</td>\n",
       "      <td>2.44</td>\n",
       "      <td>0.40</td>\n",
       "      <td>3.91</td>\n",
       "      <td>0.0</td>\n",
       "      <td>30</td>\n",
       "      <td>11</td>\n",
       "      <td>181</td>\n",
       "      <td>1218</td>\n",
       "      <td>1776</td>\n",
       "    </tr>\n",
       "    <tr>\n",
       "      <th>3</th>\n",
       "      <td>1503960366</td>\n",
       "      <td>4/15/2016</td>\n",
       "      <td>9762</td>\n",
       "      <td>6.28</td>\n",
       "      <td>6.28</td>\n",
       "      <td>0.0</td>\n",
       "      <td>2.14</td>\n",
       "      <td>1.26</td>\n",
       "      <td>2.83</td>\n",
       "      <td>0.0</td>\n",
       "      <td>29</td>\n",
       "      <td>34</td>\n",
       "      <td>209</td>\n",
       "      <td>726</td>\n",
       "      <td>1745</td>\n",
       "    </tr>\n",
       "    <tr>\n",
       "      <th>4</th>\n",
       "      <td>1503960366</td>\n",
       "      <td>4/16/2016</td>\n",
       "      <td>12669</td>\n",
       "      <td>8.16</td>\n",
       "      <td>8.16</td>\n",
       "      <td>0.0</td>\n",
       "      <td>2.71</td>\n",
       "      <td>0.41</td>\n",
       "      <td>5.04</td>\n",
       "      <td>0.0</td>\n",
       "      <td>36</td>\n",
       "      <td>10</td>\n",
       "      <td>221</td>\n",
       "      <td>773</td>\n",
       "      <td>1863</td>\n",
       "    </tr>\n",
       "  </tbody>\n",
       "</table>\n",
       "</div>"
      ],
      "text/plain": [
       "           Id ActivityDate  TotalSteps  TotalDistance  TrackerDistance  \\\n",
       "0  1503960366    4/12/2016       13162           8.50             8.50   \n",
       "1  1503960366    4/13/2016       10735           6.97             6.97   \n",
       "2  1503960366    4/14/2016       10460           6.74             6.74   \n",
       "3  1503960366    4/15/2016        9762           6.28             6.28   \n",
       "4  1503960366    4/16/2016       12669           8.16             8.16   \n",
       "\n",
       "   LoggedActivitiesDistance  VeryActiveDistance  ModeratelyActiveDistance  \\\n",
       "0                       0.0                1.88                      0.55   \n",
       "1                       0.0                1.57                      0.69   \n",
       "2                       0.0                2.44                      0.40   \n",
       "3                       0.0                2.14                      1.26   \n",
       "4                       0.0                2.71                      0.41   \n",
       "\n",
       "   LightActiveDistance  SedentaryActiveDistance  VeryActiveMinutes  \\\n",
       "0                 6.06                      0.0                 25   \n",
       "1                 4.71                      0.0                 21   \n",
       "2                 3.91                      0.0                 30   \n",
       "3                 2.83                      0.0                 29   \n",
       "4                 5.04                      0.0                 36   \n",
       "\n",
       "   FairlyActiveMinutes  LightlyActiveMinutes  SedentaryMinutes  Calories  \n",
       "0                   13                   328               728      1985  \n",
       "1                   19                   217               776      1797  \n",
       "2                   11                   181              1218      1776  \n",
       "3                   34                   209               726      1745  \n",
       "4                   10                   221               773      1863  "
      ]
     },
     "execution_count": 5,
     "metadata": {},
     "output_type": "execute_result"
    }
   ],
   "source": [
    "#Checking the data in each variables\n",
    "daily_act.head()"
   ]
  },
  {
   "cell_type": "code",
   "execution_count": 6,
   "id": "1c1c3741",
   "metadata": {},
   "outputs": [
    {
     "name": "stdout",
     "output_type": "stream",
     "text": [
      "<class 'pandas.core.frame.DataFrame'>\n",
      "RangeIndex: 940 entries, 0 to 939\n",
      "Data columns (total 15 columns):\n",
      " #   Column                    Non-Null Count  Dtype  \n",
      "---  ------                    --------------  -----  \n",
      " 0   Id                        940 non-null    int64  \n",
      " 1   ActivityDate              940 non-null    object \n",
      " 2   TotalSteps                940 non-null    int64  \n",
      " 3   TotalDistance             940 non-null    float64\n",
      " 4   TrackerDistance           940 non-null    float64\n",
      " 5   LoggedActivitiesDistance  940 non-null    float64\n",
      " 6   VeryActiveDistance        940 non-null    float64\n",
      " 7   ModeratelyActiveDistance  940 non-null    float64\n",
      " 8   LightActiveDistance       940 non-null    float64\n",
      " 9   SedentaryActiveDistance   940 non-null    float64\n",
      " 10  VeryActiveMinutes         940 non-null    int64  \n",
      " 11  FairlyActiveMinutes       940 non-null    int64  \n",
      " 12  LightlyActiveMinutes      940 non-null    int64  \n",
      " 13  SedentaryMinutes          940 non-null    int64  \n",
      " 14  Calories                  940 non-null    int64  \n",
      "dtypes: float64(7), int64(7), object(1)\n",
      "memory usage: 110.3+ KB\n"
     ]
    }
   ],
   "source": [
    "daily_act.info()"
   ]
  },
  {
   "cell_type": "code",
   "execution_count": 7,
   "id": "773fb9ae",
   "metadata": {},
   "outputs": [
    {
     "data": {
      "text/plain": [
       "Id                          0\n",
       "ActivityDate                0\n",
       "TotalSteps                  0\n",
       "TotalDistance               0\n",
       "TrackerDistance             0\n",
       "LoggedActivitiesDistance    0\n",
       "VeryActiveDistance          0\n",
       "ModeratelyActiveDistance    0\n",
       "LightActiveDistance         0\n",
       "SedentaryActiveDistance     0\n",
       "VeryActiveMinutes           0\n",
       "FairlyActiveMinutes         0\n",
       "LightlyActiveMinutes        0\n",
       "SedentaryMinutes            0\n",
       "Calories                    0\n",
       "dtype: int64"
      ]
     },
     "execution_count": 7,
     "metadata": {},
     "output_type": "execute_result"
    }
   ],
   "source": [
    "#Checking for missing value\n",
    "daily_act.isnull().sum()"
   ]
  },
  {
   "cell_type": "code",
   "execution_count": 8,
   "id": "514e423f",
   "metadata": {},
   "outputs": [
    {
     "data": {
      "text/html": [
       "<div>\n",
       "<style scoped>\n",
       "    .dataframe tbody tr th:only-of-type {\n",
       "        vertical-align: middle;\n",
       "    }\n",
       "\n",
       "    .dataframe tbody tr th {\n",
       "        vertical-align: top;\n",
       "    }\n",
       "\n",
       "    .dataframe thead th {\n",
       "        text-align: right;\n",
       "    }\n",
       "</style>\n",
       "<table border=\"1\" class=\"dataframe\">\n",
       "  <thead>\n",
       "    <tr style=\"text-align: right;\">\n",
       "      <th></th>\n",
       "      <th>count</th>\n",
       "      <th>mean</th>\n",
       "      <th>std</th>\n",
       "      <th>min</th>\n",
       "      <th>25%</th>\n",
       "      <th>50%</th>\n",
       "      <th>75%</th>\n",
       "      <th>max</th>\n",
       "    </tr>\n",
       "  </thead>\n",
       "  <tbody>\n",
       "    <tr>\n",
       "      <th>Id</th>\n",
       "      <td>940.0</td>\n",
       "      <td>4.855407e+09</td>\n",
       "      <td>2.424805e+09</td>\n",
       "      <td>1.503960e+09</td>\n",
       "      <td>2.320127e+09</td>\n",
       "      <td>4.445115e+09</td>\n",
       "      <td>6.962181e+09</td>\n",
       "      <td>8.877689e+09</td>\n",
       "    </tr>\n",
       "    <tr>\n",
       "      <th>TotalSteps</th>\n",
       "      <td>940.0</td>\n",
       "      <td>7.637911e+03</td>\n",
       "      <td>5.087151e+03</td>\n",
       "      <td>0.000000e+00</td>\n",
       "      <td>3.789750e+03</td>\n",
       "      <td>7.405500e+03</td>\n",
       "      <td>1.072700e+04</td>\n",
       "      <td>3.601900e+04</td>\n",
       "    </tr>\n",
       "    <tr>\n",
       "      <th>TotalDistance</th>\n",
       "      <td>940.0</td>\n",
       "      <td>5.489702e+00</td>\n",
       "      <td>3.924606e+00</td>\n",
       "      <td>0.000000e+00</td>\n",
       "      <td>2.620000e+00</td>\n",
       "      <td>5.245000e+00</td>\n",
       "      <td>7.712500e+00</td>\n",
       "      <td>2.803000e+01</td>\n",
       "    </tr>\n",
       "    <tr>\n",
       "      <th>TrackerDistance</th>\n",
       "      <td>940.0</td>\n",
       "      <td>5.475351e+00</td>\n",
       "      <td>3.907276e+00</td>\n",
       "      <td>0.000000e+00</td>\n",
       "      <td>2.620000e+00</td>\n",
       "      <td>5.245000e+00</td>\n",
       "      <td>7.710000e+00</td>\n",
       "      <td>2.803000e+01</td>\n",
       "    </tr>\n",
       "    <tr>\n",
       "      <th>LoggedActivitiesDistance</th>\n",
       "      <td>940.0</td>\n",
       "      <td>1.081709e-01</td>\n",
       "      <td>6.198965e-01</td>\n",
       "      <td>0.000000e+00</td>\n",
       "      <td>0.000000e+00</td>\n",
       "      <td>0.000000e+00</td>\n",
       "      <td>0.000000e+00</td>\n",
       "      <td>4.942142e+00</td>\n",
       "    </tr>\n",
       "    <tr>\n",
       "      <th>VeryActiveDistance</th>\n",
       "      <td>940.0</td>\n",
       "      <td>1.502681e+00</td>\n",
       "      <td>2.658941e+00</td>\n",
       "      <td>0.000000e+00</td>\n",
       "      <td>0.000000e+00</td>\n",
       "      <td>2.100000e-01</td>\n",
       "      <td>2.052500e+00</td>\n",
       "      <td>2.192000e+01</td>\n",
       "    </tr>\n",
       "    <tr>\n",
       "      <th>ModeratelyActiveDistance</th>\n",
       "      <td>940.0</td>\n",
       "      <td>5.675426e-01</td>\n",
       "      <td>8.835803e-01</td>\n",
       "      <td>0.000000e+00</td>\n",
       "      <td>0.000000e+00</td>\n",
       "      <td>2.400000e-01</td>\n",
       "      <td>8.000000e-01</td>\n",
       "      <td>6.480000e+00</td>\n",
       "    </tr>\n",
       "    <tr>\n",
       "      <th>LightActiveDistance</th>\n",
       "      <td>940.0</td>\n",
       "      <td>3.340819e+00</td>\n",
       "      <td>2.040655e+00</td>\n",
       "      <td>0.000000e+00</td>\n",
       "      <td>1.945000e+00</td>\n",
       "      <td>3.365000e+00</td>\n",
       "      <td>4.782500e+00</td>\n",
       "      <td>1.071000e+01</td>\n",
       "    </tr>\n",
       "    <tr>\n",
       "      <th>SedentaryActiveDistance</th>\n",
       "      <td>940.0</td>\n",
       "      <td>1.606383e-03</td>\n",
       "      <td>7.346176e-03</td>\n",
       "      <td>0.000000e+00</td>\n",
       "      <td>0.000000e+00</td>\n",
       "      <td>0.000000e+00</td>\n",
       "      <td>0.000000e+00</td>\n",
       "      <td>1.100000e-01</td>\n",
       "    </tr>\n",
       "    <tr>\n",
       "      <th>VeryActiveMinutes</th>\n",
       "      <td>940.0</td>\n",
       "      <td>2.116489e+01</td>\n",
       "      <td>3.284480e+01</td>\n",
       "      <td>0.000000e+00</td>\n",
       "      <td>0.000000e+00</td>\n",
       "      <td>4.000000e+00</td>\n",
       "      <td>3.200000e+01</td>\n",
       "      <td>2.100000e+02</td>\n",
       "    </tr>\n",
       "    <tr>\n",
       "      <th>FairlyActiveMinutes</th>\n",
       "      <td>940.0</td>\n",
       "      <td>1.356489e+01</td>\n",
       "      <td>1.998740e+01</td>\n",
       "      <td>0.000000e+00</td>\n",
       "      <td>0.000000e+00</td>\n",
       "      <td>6.000000e+00</td>\n",
       "      <td>1.900000e+01</td>\n",
       "      <td>1.430000e+02</td>\n",
       "    </tr>\n",
       "    <tr>\n",
       "      <th>LightlyActiveMinutes</th>\n",
       "      <td>940.0</td>\n",
       "      <td>1.928128e+02</td>\n",
       "      <td>1.091747e+02</td>\n",
       "      <td>0.000000e+00</td>\n",
       "      <td>1.270000e+02</td>\n",
       "      <td>1.990000e+02</td>\n",
       "      <td>2.640000e+02</td>\n",
       "      <td>5.180000e+02</td>\n",
       "    </tr>\n",
       "    <tr>\n",
       "      <th>SedentaryMinutes</th>\n",
       "      <td>940.0</td>\n",
       "      <td>9.912106e+02</td>\n",
       "      <td>3.012674e+02</td>\n",
       "      <td>0.000000e+00</td>\n",
       "      <td>7.297500e+02</td>\n",
       "      <td>1.057500e+03</td>\n",
       "      <td>1.229500e+03</td>\n",
       "      <td>1.440000e+03</td>\n",
       "    </tr>\n",
       "    <tr>\n",
       "      <th>Calories</th>\n",
       "      <td>940.0</td>\n",
       "      <td>2.303610e+03</td>\n",
       "      <td>7.181669e+02</td>\n",
       "      <td>0.000000e+00</td>\n",
       "      <td>1.828500e+03</td>\n",
       "      <td>2.134000e+03</td>\n",
       "      <td>2.793250e+03</td>\n",
       "      <td>4.900000e+03</td>\n",
       "    </tr>\n",
       "  </tbody>\n",
       "</table>\n",
       "</div>"
      ],
      "text/plain": [
       "                          count          mean           std           min  \\\n",
       "Id                        940.0  4.855407e+09  2.424805e+09  1.503960e+09   \n",
       "TotalSteps                940.0  7.637911e+03  5.087151e+03  0.000000e+00   \n",
       "TotalDistance             940.0  5.489702e+00  3.924606e+00  0.000000e+00   \n",
       "TrackerDistance           940.0  5.475351e+00  3.907276e+00  0.000000e+00   \n",
       "LoggedActivitiesDistance  940.0  1.081709e-01  6.198965e-01  0.000000e+00   \n",
       "VeryActiveDistance        940.0  1.502681e+00  2.658941e+00  0.000000e+00   \n",
       "ModeratelyActiveDistance  940.0  5.675426e-01  8.835803e-01  0.000000e+00   \n",
       "LightActiveDistance       940.0  3.340819e+00  2.040655e+00  0.000000e+00   \n",
       "SedentaryActiveDistance   940.0  1.606383e-03  7.346176e-03  0.000000e+00   \n",
       "VeryActiveMinutes         940.0  2.116489e+01  3.284480e+01  0.000000e+00   \n",
       "FairlyActiveMinutes       940.0  1.356489e+01  1.998740e+01  0.000000e+00   \n",
       "LightlyActiveMinutes      940.0  1.928128e+02  1.091747e+02  0.000000e+00   \n",
       "SedentaryMinutes          940.0  9.912106e+02  3.012674e+02  0.000000e+00   \n",
       "Calories                  940.0  2.303610e+03  7.181669e+02  0.000000e+00   \n",
       "\n",
       "                                   25%           50%           75%  \\\n",
       "Id                        2.320127e+09  4.445115e+09  6.962181e+09   \n",
       "TotalSteps                3.789750e+03  7.405500e+03  1.072700e+04   \n",
       "TotalDistance             2.620000e+00  5.245000e+00  7.712500e+00   \n",
       "TrackerDistance           2.620000e+00  5.245000e+00  7.710000e+00   \n",
       "LoggedActivitiesDistance  0.000000e+00  0.000000e+00  0.000000e+00   \n",
       "VeryActiveDistance        0.000000e+00  2.100000e-01  2.052500e+00   \n",
       "ModeratelyActiveDistance  0.000000e+00  2.400000e-01  8.000000e-01   \n",
       "LightActiveDistance       1.945000e+00  3.365000e+00  4.782500e+00   \n",
       "SedentaryActiveDistance   0.000000e+00  0.000000e+00  0.000000e+00   \n",
       "VeryActiveMinutes         0.000000e+00  4.000000e+00  3.200000e+01   \n",
       "FairlyActiveMinutes       0.000000e+00  6.000000e+00  1.900000e+01   \n",
       "LightlyActiveMinutes      1.270000e+02  1.990000e+02  2.640000e+02   \n",
       "SedentaryMinutes          7.297500e+02  1.057500e+03  1.229500e+03   \n",
       "Calories                  1.828500e+03  2.134000e+03  2.793250e+03   \n",
       "\n",
       "                                   max  \n",
       "Id                        8.877689e+09  \n",
       "TotalSteps                3.601900e+04  \n",
       "TotalDistance             2.803000e+01  \n",
       "TrackerDistance           2.803000e+01  \n",
       "LoggedActivitiesDistance  4.942142e+00  \n",
       "VeryActiveDistance        2.192000e+01  \n",
       "ModeratelyActiveDistance  6.480000e+00  \n",
       "LightActiveDistance       1.071000e+01  \n",
       "SedentaryActiveDistance   1.100000e-01  \n",
       "VeryActiveMinutes         2.100000e+02  \n",
       "FairlyActiveMinutes       1.430000e+02  \n",
       "LightlyActiveMinutes      5.180000e+02  \n",
       "SedentaryMinutes          1.440000e+03  \n",
       "Calories                  4.900000e+03  "
      ]
     },
     "execution_count": 8,
     "metadata": {},
     "output_type": "execute_result"
    }
   ],
   "source": [
    "#Discriptive statistics\n",
    "daily_act.describe().T"
   ]
  },
  {
   "cell_type": "code",
   "execution_count": 9,
   "id": "a7ea4dd4",
   "metadata": {},
   "outputs": [
    {
     "data": {
      "text/plain": [
       "(Id                           33\n",
       " ActivityDate                 31\n",
       " TotalSteps                  842\n",
       " TotalDistance               615\n",
       " TrackerDistance             613\n",
       " LoggedActivitiesDistance     19\n",
       " VeryActiveDistance          333\n",
       " ModeratelyActiveDistance    211\n",
       " LightActiveDistance         491\n",
       " SedentaryActiveDistance       9\n",
       " VeryActiveMinutes           122\n",
       " FairlyActiveMinutes          81\n",
       " LightlyActiveMinutes        335\n",
       " SedentaryMinutes            549\n",
       " Calories                    734\n",
       " dtype: int64,\n",
       " Id                     24\n",
       " SleepDay               31\n",
       " TotalSleepRecords       3\n",
       " TotalMinutesAsleep    256\n",
       " TotalTimeInBed        242\n",
       " dtype: int64)"
      ]
     },
     "execution_count": 9,
     "metadata": {},
     "output_type": "execute_result"
    }
   ],
   "source": [
    "#Checking the unique count of each variable\n",
    "daily.nunique(),sleep.nunique()"
   ]
  },
  {
   "cell_type": "markdown",
   "id": "3b09781c",
   "metadata": {},
   "source": [
    "### Data Cleaning \n",
    "Adding new column to the data, concerting date column from object to datetime, and creating a data base on grouping by user ID."
   ]
  },
  {
   "cell_type": "code",
   "execution_count": 12,
   "id": "b5e8b790",
   "metadata": {},
   "outputs": [],
   "source": [
    "#Converting the date column into datetime data\n",
    "daily[\"ActivityDate\"] = pd.to_datetime(daily[\"ActivityDate\"])"
   ]
  },
  {
   "cell_type": "code",
   "execution_count": 13,
   "id": "82036df8",
   "metadata": {},
   "outputs": [
    {
     "data": {
      "text/html": [
       "<div>\n",
       "<style scoped>\n",
       "    .dataframe tbody tr th:only-of-type {\n",
       "        vertical-align: middle;\n",
       "    }\n",
       "\n",
       "    .dataframe tbody tr th {\n",
       "        vertical-align: top;\n",
       "    }\n",
       "\n",
       "    .dataframe thead th {\n",
       "        text-align: right;\n",
       "    }\n",
       "</style>\n",
       "<table border=\"1\" class=\"dataframe\">\n",
       "  <thead>\n",
       "    <tr style=\"text-align: right;\">\n",
       "      <th></th>\n",
       "      <th>Id</th>\n",
       "      <th>ActivityDate</th>\n",
       "      <th>TotalSteps</th>\n",
       "      <th>TotalDistance</th>\n",
       "      <th>TrackerDistance</th>\n",
       "      <th>LoggedActivitiesDistance</th>\n",
       "      <th>VeryActiveDistance</th>\n",
       "      <th>ModeratelyActiveDistance</th>\n",
       "      <th>LightActiveDistance</th>\n",
       "      <th>SedentaryActiveDistance</th>\n",
       "      <th>VeryActiveMinutes</th>\n",
       "      <th>FairlyActiveMinutes</th>\n",
       "      <th>LightlyActiveMinutes</th>\n",
       "      <th>SedentaryMinutes</th>\n",
       "      <th>Calories</th>\n",
       "      <th>day</th>\n",
       "    </tr>\n",
       "  </thead>\n",
       "  <tbody>\n",
       "    <tr>\n",
       "      <th>0</th>\n",
       "      <td>1503960366</td>\n",
       "      <td>2016-04-12</td>\n",
       "      <td>13162</td>\n",
       "      <td>8.50</td>\n",
       "      <td>8.50</td>\n",
       "      <td>0.0</td>\n",
       "      <td>1.88</td>\n",
       "      <td>0.55</td>\n",
       "      <td>6.06</td>\n",
       "      <td>0.0</td>\n",
       "      <td>25</td>\n",
       "      <td>13</td>\n",
       "      <td>328</td>\n",
       "      <td>728</td>\n",
       "      <td>1985</td>\n",
       "      <td>1</td>\n",
       "    </tr>\n",
       "    <tr>\n",
       "      <th>1</th>\n",
       "      <td>1503960366</td>\n",
       "      <td>2016-04-13</td>\n",
       "      <td>10735</td>\n",
       "      <td>6.97</td>\n",
       "      <td>6.97</td>\n",
       "      <td>0.0</td>\n",
       "      <td>1.57</td>\n",
       "      <td>0.69</td>\n",
       "      <td>4.71</td>\n",
       "      <td>0.0</td>\n",
       "      <td>21</td>\n",
       "      <td>19</td>\n",
       "      <td>217</td>\n",
       "      <td>776</td>\n",
       "      <td>1797</td>\n",
       "      <td>2</td>\n",
       "    </tr>\n",
       "    <tr>\n",
       "      <th>2</th>\n",
       "      <td>1503960366</td>\n",
       "      <td>2016-04-14</td>\n",
       "      <td>10460</td>\n",
       "      <td>6.74</td>\n",
       "      <td>6.74</td>\n",
       "      <td>0.0</td>\n",
       "      <td>2.44</td>\n",
       "      <td>0.40</td>\n",
       "      <td>3.91</td>\n",
       "      <td>0.0</td>\n",
       "      <td>30</td>\n",
       "      <td>11</td>\n",
       "      <td>181</td>\n",
       "      <td>1218</td>\n",
       "      <td>1776</td>\n",
       "      <td>3</td>\n",
       "    </tr>\n",
       "    <tr>\n",
       "      <th>3</th>\n",
       "      <td>1503960366</td>\n",
       "      <td>2016-04-15</td>\n",
       "      <td>9762</td>\n",
       "      <td>6.28</td>\n",
       "      <td>6.28</td>\n",
       "      <td>0.0</td>\n",
       "      <td>2.14</td>\n",
       "      <td>1.26</td>\n",
       "      <td>2.83</td>\n",
       "      <td>0.0</td>\n",
       "      <td>29</td>\n",
       "      <td>34</td>\n",
       "      <td>209</td>\n",
       "      <td>726</td>\n",
       "      <td>1745</td>\n",
       "      <td>4</td>\n",
       "    </tr>\n",
       "    <tr>\n",
       "      <th>4</th>\n",
       "      <td>1503960366</td>\n",
       "      <td>2016-04-16</td>\n",
       "      <td>12669</td>\n",
       "      <td>8.16</td>\n",
       "      <td>8.16</td>\n",
       "      <td>0.0</td>\n",
       "      <td>2.71</td>\n",
       "      <td>0.41</td>\n",
       "      <td>5.04</td>\n",
       "      <td>0.0</td>\n",
       "      <td>36</td>\n",
       "      <td>10</td>\n",
       "      <td>221</td>\n",
       "      <td>773</td>\n",
       "      <td>1863</td>\n",
       "      <td>5</td>\n",
       "    </tr>\n",
       "  </tbody>\n",
       "</table>\n",
       "</div>"
      ],
      "text/plain": [
       "           Id ActivityDate  TotalSteps  TotalDistance  TrackerDistance  \\\n",
       "0  1503960366   2016-04-12       13162           8.50             8.50   \n",
       "1  1503960366   2016-04-13       10735           6.97             6.97   \n",
       "2  1503960366   2016-04-14       10460           6.74             6.74   \n",
       "3  1503960366   2016-04-15        9762           6.28             6.28   \n",
       "4  1503960366   2016-04-16       12669           8.16             8.16   \n",
       "\n",
       "   LoggedActivitiesDistance  VeryActiveDistance  ModeratelyActiveDistance  \\\n",
       "0                       0.0                1.88                      0.55   \n",
       "1                       0.0                1.57                      0.69   \n",
       "2                       0.0                2.44                      0.40   \n",
       "3                       0.0                2.14                      1.26   \n",
       "4                       0.0                2.71                      0.41   \n",
       "\n",
       "   LightActiveDistance  SedentaryActiveDistance  VeryActiveMinutes  \\\n",
       "0                 6.06                      0.0                 25   \n",
       "1                 4.71                      0.0                 21   \n",
       "2                 3.91                      0.0                 30   \n",
       "3                 2.83                      0.0                 29   \n",
       "4                 5.04                      0.0                 36   \n",
       "\n",
       "   FairlyActiveMinutes  LightlyActiveMinutes  SedentaryMinutes  Calories  day  \n",
       "0                   13                   328               728      1985    1  \n",
       "1                   19                   217               776      1797    2  \n",
       "2                   11                   181              1218      1776    3  \n",
       "3                   34                   209               726      1745    4  \n",
       "4                   10                   221               773      1863    5  "
      ]
     },
     "execution_count": 13,
     "metadata": {},
     "output_type": "execute_result"
    }
   ],
   "source": [
    "#Creating the day column\n",
    "daily['day'] = daily[\"ActivityDate\"].dt.dayofweek\n",
    "daily.head()"
   ]
  },
  {
   "cell_type": "code",
   "execution_count": 14,
   "id": "7b23a493",
   "metadata": {},
   "outputs": [
    {
     "data": {
      "text/html": [
       "<div>\n",
       "<style scoped>\n",
       "    .dataframe tbody tr th:only-of-type {\n",
       "        vertical-align: middle;\n",
       "    }\n",
       "\n",
       "    .dataframe tbody tr th {\n",
       "        vertical-align: top;\n",
       "    }\n",
       "\n",
       "    .dataframe thead th {\n",
       "        text-align: right;\n",
       "    }\n",
       "</style>\n",
       "<table border=\"1\" class=\"dataframe\">\n",
       "  <thead>\n",
       "    <tr style=\"text-align: right;\">\n",
       "      <th></th>\n",
       "      <th>TotalSteps</th>\n",
       "      <th>TotalDistance</th>\n",
       "      <th>TrackerDistance</th>\n",
       "      <th>LoggedActivitiesDistance</th>\n",
       "      <th>VeryActiveDistance</th>\n",
       "      <th>ModeratelyActiveDistance</th>\n",
       "      <th>LightActiveDistance</th>\n",
       "      <th>SedentaryActiveDistance</th>\n",
       "      <th>VeryActiveMinutes</th>\n",
       "      <th>FairlyActiveMinutes</th>\n",
       "      <th>LightlyActiveMinutes</th>\n",
       "      <th>SedentaryMinutes</th>\n",
       "      <th>Calories</th>\n",
       "    </tr>\n",
       "    <tr>\n",
       "      <th>Id</th>\n",
       "      <th></th>\n",
       "      <th></th>\n",
       "      <th></th>\n",
       "      <th></th>\n",
       "      <th></th>\n",
       "      <th></th>\n",
       "      <th></th>\n",
       "      <th></th>\n",
       "      <th></th>\n",
       "      <th></th>\n",
       "      <th></th>\n",
       "      <th></th>\n",
       "      <th></th>\n",
       "    </tr>\n",
       "  </thead>\n",
       "  <tbody>\n",
       "    <tr>\n",
       "      <th>1503960366</th>\n",
       "      <td>12116.741935</td>\n",
       "      <td>7.809677</td>\n",
       "      <td>7.809677</td>\n",
       "      <td>0.0</td>\n",
       "      <td>2.858387</td>\n",
       "      <td>0.794194</td>\n",
       "      <td>4.152903</td>\n",
       "      <td>0.000000</td>\n",
       "      <td>38.709677</td>\n",
       "      <td>19.161290</td>\n",
       "      <td>219.935484</td>\n",
       "      <td>848.161290</td>\n",
       "      <td>1816.419355</td>\n",
       "    </tr>\n",
       "    <tr>\n",
       "      <th>1624580081</th>\n",
       "      <td>5743.903226</td>\n",
       "      <td>3.914839</td>\n",
       "      <td>3.914839</td>\n",
       "      <td>0.0</td>\n",
       "      <td>0.939355</td>\n",
       "      <td>0.360645</td>\n",
       "      <td>2.606774</td>\n",
       "      <td>0.006129</td>\n",
       "      <td>8.677419</td>\n",
       "      <td>5.806452</td>\n",
       "      <td>153.483871</td>\n",
       "      <td>1257.741935</td>\n",
       "      <td>1483.354839</td>\n",
       "    </tr>\n",
       "    <tr>\n",
       "      <th>1644430081</th>\n",
       "      <td>7282.966667</td>\n",
       "      <td>5.295333</td>\n",
       "      <td>5.295333</td>\n",
       "      <td>0.0</td>\n",
       "      <td>0.730000</td>\n",
       "      <td>0.951000</td>\n",
       "      <td>3.609000</td>\n",
       "      <td>0.004000</td>\n",
       "      <td>9.566667</td>\n",
       "      <td>21.366667</td>\n",
       "      <td>178.466667</td>\n",
       "      <td>1161.866667</td>\n",
       "      <td>2811.300000</td>\n",
       "    </tr>\n",
       "    <tr>\n",
       "      <th>1844505072</th>\n",
       "      <td>2580.064516</td>\n",
       "      <td>1.706129</td>\n",
       "      <td>1.706129</td>\n",
       "      <td>0.0</td>\n",
       "      <td>0.008387</td>\n",
       "      <td>0.049032</td>\n",
       "      <td>1.647419</td>\n",
       "      <td>0.000000</td>\n",
       "      <td>0.129032</td>\n",
       "      <td>1.290323</td>\n",
       "      <td>115.451613</td>\n",
       "      <td>1206.612903</td>\n",
       "      <td>1573.483871</td>\n",
       "    </tr>\n",
       "    <tr>\n",
       "      <th>1927972279</th>\n",
       "      <td>916.129032</td>\n",
       "      <td>0.634516</td>\n",
       "      <td>0.634516</td>\n",
       "      <td>0.0</td>\n",
       "      <td>0.095806</td>\n",
       "      <td>0.031290</td>\n",
       "      <td>0.507097</td>\n",
       "      <td>0.000000</td>\n",
       "      <td>1.322581</td>\n",
       "      <td>0.774194</td>\n",
       "      <td>38.580645</td>\n",
       "      <td>1317.419355</td>\n",
       "      <td>2172.806452</td>\n",
       "    </tr>\n",
       "  </tbody>\n",
       "</table>\n",
       "</div>"
      ],
      "text/plain": [
       "              TotalSteps  TotalDistance  TrackerDistance  \\\n",
       "Id                                                         \n",
       "1503960366  12116.741935       7.809677         7.809677   \n",
       "1624580081   5743.903226       3.914839         3.914839   \n",
       "1644430081   7282.966667       5.295333         5.295333   \n",
       "1844505072   2580.064516       1.706129         1.706129   \n",
       "1927972279    916.129032       0.634516         0.634516   \n",
       "\n",
       "            LoggedActivitiesDistance  VeryActiveDistance  \\\n",
       "Id                                                         \n",
       "1503960366                       0.0            2.858387   \n",
       "1624580081                       0.0            0.939355   \n",
       "1644430081                       0.0            0.730000   \n",
       "1844505072                       0.0            0.008387   \n",
       "1927972279                       0.0            0.095806   \n",
       "\n",
       "            ModeratelyActiveDistance  LightActiveDistance  \\\n",
       "Id                                                          \n",
       "1503960366                  0.794194             4.152903   \n",
       "1624580081                  0.360645             2.606774   \n",
       "1644430081                  0.951000             3.609000   \n",
       "1844505072                  0.049032             1.647419   \n",
       "1927972279                  0.031290             0.507097   \n",
       "\n",
       "            SedentaryActiveDistance  VeryActiveMinutes  FairlyActiveMinutes  \\\n",
       "Id                                                                            \n",
       "1503960366                 0.000000          38.709677            19.161290   \n",
       "1624580081                 0.006129           8.677419             5.806452   \n",
       "1644430081                 0.004000           9.566667            21.366667   \n",
       "1844505072                 0.000000           0.129032             1.290323   \n",
       "1927972279                 0.000000           1.322581             0.774194   \n",
       "\n",
       "            LightlyActiveMinutes  SedentaryMinutes     Calories  \n",
       "Id                                                               \n",
       "1503960366            219.935484        848.161290  1816.419355  \n",
       "1624580081            153.483871       1257.741935  1483.354839  \n",
       "1644430081            178.466667       1161.866667  2811.300000  \n",
       "1844505072            115.451613       1206.612903  1573.483871  \n",
       "1927972279             38.580645       1317.419355  2172.806452  "
      ]
     },
     "execution_count": 14,
     "metadata": {},
     "output_type": "execute_result"
    }
   ],
   "source": [
    "#Grouping the data base on the ID\n",
    "daily_gp = daily.groupby(\"Id\").mean().drop(['day'], axis=1)\n",
    "daily_gp.head()"
   ]
  },
  {
   "cell_type": "code",
   "execution_count": 15,
   "id": "68536582",
   "metadata": {},
   "outputs": [],
   "source": [
    "#Creating user type column base on users' daily step\n",
    "user_type = []\n",
    "for i in daily_gp[\"TotalSteps\"]:\n",
    "    if i < 5000:\n",
    "        user_type.append(\"sedentary\")\n",
    "    elif i < 7499:\n",
    "        user_type.append(\"lightly active\")\n",
    "    elif i < 9999:\n",
    "        user_type.append(\"fairly active\")\n",
    "    else:\n",
    "        user_type.append(\"very active\")"
   ]
  },
  {
   "cell_type": "code",
   "execution_count": 16,
   "id": "b8209835",
   "metadata": {},
   "outputs": [],
   "source": [
    "#Adding the new user activity list to the dataframe\n",
    "daily_gp['user_type'] = user_type"
   ]
  },
  {
   "cell_type": "markdown",
   "id": "a116f58b",
   "metadata": {},
   "source": [
    "## Analyze Phase\n",
    "\n",
    "In this section, we will explore the hidden patterns in the dataset using plots."
   ]
  },
  {
   "cell_type": "markdown",
   "id": "e9d6c4aa",
   "metadata": {},
   "source": [
    "#### Exploratory Data Analysis"
   ]
  },
  {
   "cell_type": "code",
   "execution_count": 17,
   "id": "4c5e5737",
   "metadata": {},
   "outputs": [
    {
     "data": {
      "image/png": "[encoded data removed]",
      "text/plain": [
       "<Figure size 432x288 with 1 Axes>"
      ]
     },
     "metadata": {
      "needs_background": "light"
     },
     "output_type": "display_data"
    }
   ],
   "source": [
    "#Checking the distribution of user daily's total step\n",
    "daily['TotalSteps'].hist(bins = 30)\n",
    "plt.title(\"Distribution of the total steps\")\n",
    "plt.xlabel(\"Total steps\")\n",
    "plt.ylabel(\"Count\")\n",
    "plt.show()"
   ]
  },
  {
   "cell_type": "code",
   "execution_count": 18,
   "id": "f7efcf35",
   "metadata": {},
   "outputs": [
    {
     "name": "stderr",
     "output_type": "stream",
     "text": [
      "C:\\Users\\win10\\Anaconda3\\lib\\site-packages\\seaborn\\distributions.py:1657: FutureWarning: The `bw` parameter is deprecated in favor of `bw_method` and `bw_adjust`. Using 0.25 for `bw_method`, but please see the docs for the new parameters and update your code.\n",
      "  warnings.warn(msg, FutureWarning)\n"
     ]
    },
    {
     "data": {
      "image/png": "[encoded data removed]",
      "text/plain": [
       "<Figure size 432x288 with 1 Axes>"
      ]
     },
     "metadata": {},
     "output_type": "display_data"
    }
   ],
   "source": [
    "sns.set()\n",
    "sns.kdeplot(daily['TotalSteps'],bw=0.25)\n",
    "plt.title(\"Total steps kernel density plot\")\n",
    "plt.show()"
   ]
  },
  {
   "cell_type": "markdown",
   "id": "546e5576",
   "metadata": {},
   "source": [
    "It can be seen from the total steps kernel density plot that most of the user take between 4000 steps to 10,200 steps. Also, it can be seen that there are some extreme values like 30000 steps to 40000 steps."
   ]
  },
  {
   "cell_type": "code",
   "execution_count": 20,
   "id": "9a7e93a7",
   "metadata": {},
   "outputs": [
    {
     "name": "stderr",
     "output_type": "stream",
     "text": [
      "C:\\Users\\win10\\Anaconda3\\lib\\site-packages\\seaborn\\distributions.py:1657: FutureWarning: The `bw` parameter is deprecated in favor of `bw_method` and `bw_adjust`. Using 0.25 for `bw_method`, but please see the docs for the new parameters and update your code.\n",
      "  warnings.warn(msg, FutureWarning)\n"
     ]
    },
    {
     "data": {
      "image/png": "[encoded data removed]",
      "text/plain": [
       "<Figure size 432x288 with 1 Axes>"
      ]
     },
     "metadata": {},
     "output_type": "display_data"
    }
   ],
   "source": [
    "sns.set()\n",
    "sns.kdeplot(daily['TotalDistance'],bw=0.25)\n",
    "plt.title(\"Total Distance kernel density plot\")\n",
    "plt.show()"
   ]
  },
  {
   "cell_type": "markdown",
   "id": "648eddae",
   "metadata": {},
   "source": [
    "It can be seen from the total distance kernel density plot that most of the user walks or run an average distance of 2 km to 8km. Also, it can be seen that there are some extreme values like 20km to 30km."
   ]
  },
  {
   "cell_type": "markdown",
   "id": "b00a8e24",
   "metadata": {},
   "source": [
    "The calories distribution shows that the daily average calories is not normaly distributed. Most of the user average 2000 calories daily."
   ]
  },
  {
   "cell_type": "code",
   "execution_count": 22,
   "id": "8ab9846a",
   "metadata": {},
   "outputs": [
    {
     "name": "stderr",
     "output_type": "stream",
     "text": [
      "C:\\Users\\win10\\Anaconda3\\lib\\site-packages\\seaborn\\distributions.py:1657: FutureWarning: The `bw` parameter is deprecated in favor of `bw_method` and `bw_adjust`. Using 0.25 for `bw_method`, but please see the docs for the new parameters and update your code.\n",
      "  warnings.warn(msg, FutureWarning)\n"
     ]
    },
    {
     "data": {
      "image/png": "[encoded data removed]",
      "text/plain": [
       "<Figure size 432x288 with 1 Axes>"
      ]
     },
     "metadata": {},
     "output_type": "display_data"
    }
   ],
   "source": [
    "sns.kdeplot(daily['Calories'],bw=0.25)\n",
    "plt.title(\"Calories kernel density plot\")\n",
    "plt.show()"
   ]
  },
  {
   "cell_type": "markdown",
   "id": "398d6397",
   "metadata": {},
   "source": [
    "##### Creating new data base on days of the week. "
   ]
  },
  {
   "cell_type": "code",
   "execution_count": 23,
   "id": "191a1bd3",
   "metadata": {},
   "outputs": [
    {
     "data": {
      "text/html": [
       "<div>\n",
       "<style scoped>\n",
       "    .dataframe tbody tr th:only-of-type {\n",
       "        vertical-align: middle;\n",
       "    }\n",
       "\n",
       "    .dataframe tbody tr th {\n",
       "        vertical-align: top;\n",
       "    }\n",
       "\n",
       "    .dataframe thead th {\n",
       "        text-align: right;\n",
       "    }\n",
       "</style>\n",
       "<table border=\"1\" class=\"dataframe\">\n",
       "  <thead>\n",
       "    <tr style=\"text-align: right;\">\n",
       "      <th></th>\n",
       "      <th>TotalSteps</th>\n",
       "      <th>TotalDistance</th>\n",
       "      <th>TrackerDistance</th>\n",
       "      <th>LoggedActivitiesDistance</th>\n",
       "      <th>VeryActiveDistance</th>\n",
       "      <th>ModeratelyActiveDistance</th>\n",
       "      <th>LightActiveDistance</th>\n",
       "      <th>SedentaryActiveDistance</th>\n",
       "      <th>VeryActiveMinutes</th>\n",
       "      <th>FairlyActiveMinutes</th>\n",
       "      <th>LightlyActiveMinutes</th>\n",
       "      <th>SedentaryMinutes</th>\n",
       "      <th>Calories</th>\n",
       "    </tr>\n",
       "    <tr>\n",
       "      <th>day</th>\n",
       "      <th></th>\n",
       "      <th></th>\n",
       "      <th></th>\n",
       "      <th></th>\n",
       "      <th></th>\n",
       "      <th></th>\n",
       "      <th></th>\n",
       "      <th></th>\n",
       "      <th></th>\n",
       "      <th></th>\n",
       "      <th></th>\n",
       "      <th></th>\n",
       "      <th></th>\n",
       "    </tr>\n",
       "  </thead>\n",
       "  <tbody>\n",
       "    <tr>\n",
       "      <th>0</th>\n",
       "      <td>7780.866667</td>\n",
       "      <td>5.552917</td>\n",
       "      <td>5.528750</td>\n",
       "      <td>0.224552</td>\n",
       "      <td>1.537333</td>\n",
       "      <td>0.585833</td>\n",
       "      <td>3.363083</td>\n",
       "      <td>0.002583</td>\n",
       "      <td>23.108333</td>\n",
       "      <td>14.000000</td>\n",
       "      <td>192.058333</td>\n",
       "      <td>1027.941667</td>\n",
       "      <td>2324.208333</td>\n",
       "    </tr>\n",
       "    <tr>\n",
       "      <th>1</th>\n",
       "      <td>8125.006579</td>\n",
       "      <td>5.832237</td>\n",
       "      <td>5.812829</td>\n",
       "      <td>0.169054</td>\n",
       "      <td>1.613289</td>\n",
       "      <td>0.593026</td>\n",
       "      <td>3.471053</td>\n",
       "      <td>0.001447</td>\n",
       "      <td>22.953947</td>\n",
       "      <td>14.335526</td>\n",
       "      <td>197.342105</td>\n",
       "      <td>1007.361842</td>\n",
       "      <td>2356.013158</td>\n",
       "    </tr>\n",
       "    <tr>\n",
       "      <th>2</th>\n",
       "      <td>7559.373333</td>\n",
       "      <td>5.488333</td>\n",
       "      <td>5.467600</td>\n",
       "      <td>0.139588</td>\n",
       "      <td>1.633467</td>\n",
       "      <td>0.527067</td>\n",
       "      <td>3.256333</td>\n",
       "      <td>0.001333</td>\n",
       "      <td>20.780000</td>\n",
       "      <td>13.100000</td>\n",
       "      <td>189.853333</td>\n",
       "      <td>989.480000</td>\n",
       "      <td>2302.620000</td>\n",
       "    </tr>\n",
       "    <tr>\n",
       "      <th>3</th>\n",
       "      <td>7405.836735</td>\n",
       "      <td>5.312245</td>\n",
       "      <td>5.287415</td>\n",
       "      <td>0.129283</td>\n",
       "      <td>1.390476</td>\n",
       "      <td>0.505170</td>\n",
       "      <td>3.283129</td>\n",
       "      <td>0.002313</td>\n",
       "      <td>19.408163</td>\n",
       "      <td>11.959184</td>\n",
       "      <td>185.421769</td>\n",
       "      <td>961.993197</td>\n",
       "      <td>2199.571429</td>\n",
       "    </tr>\n",
       "    <tr>\n",
       "      <th>4</th>\n",
       "      <td>7448.230159</td>\n",
       "      <td>5.309921</td>\n",
       "      <td>5.302936</td>\n",
       "      <td>0.072186</td>\n",
       "      <td>1.312937</td>\n",
       "      <td>0.483810</td>\n",
       "      <td>3.489127</td>\n",
       "      <td>0.001825</td>\n",
       "      <td>20.055556</td>\n",
       "      <td>12.111111</td>\n",
       "      <td>204.198413</td>\n",
       "      <td>1000.309524</td>\n",
       "      <td>2331.785714</td>\n",
       "    </tr>\n",
       "  </tbody>\n",
       "</table>\n",
       "</div>"
      ],
      "text/plain": [
       "      TotalSteps  TotalDistance  TrackerDistance  LoggedActivitiesDistance  \\\n",
       "day                                                                          \n",
       "0    7780.866667       5.552917         5.528750                  0.224552   \n",
       "1    8125.006579       5.832237         5.812829                  0.169054   \n",
       "2    7559.373333       5.488333         5.467600                  0.139588   \n",
       "3    7405.836735       5.312245         5.287415                  0.129283   \n",
       "4    7448.230159       5.309921         5.302936                  0.072186   \n",
       "\n",
       "     VeryActiveDistance  ModeratelyActiveDistance  LightActiveDistance  \\\n",
       "day                                                                      \n",
       "0              1.537333                  0.585833             3.363083   \n",
       "1              1.613289                  0.593026             3.471053   \n",
       "2              1.633467                  0.527067             3.256333   \n",
       "3              1.390476                  0.505170             3.283129   \n",
       "4              1.312937                  0.483810             3.489127   \n",
       "\n",
       "     SedentaryActiveDistance  VeryActiveMinutes  FairlyActiveMinutes  \\\n",
       "day                                                                    \n",
       "0                   0.002583          23.108333            14.000000   \n",
       "1                   0.001447          22.953947            14.335526   \n",
       "2                   0.001333          20.780000            13.100000   \n",
       "3                   0.002313          19.408163            11.959184   \n",
       "4                   0.001825          20.055556            12.111111   \n",
       "\n",
       "     LightlyActiveMinutes  SedentaryMinutes     Calories  \n",
       "day                                                       \n",
       "0              192.058333       1027.941667  2324.208333  \n",
       "1              197.342105       1007.361842  2356.013158  \n",
       "2              189.853333        989.480000  2302.620000  \n",
       "3              185.421769        961.993197  2199.571429  \n",
       "4              204.198413       1000.309524  2331.785714  "
      ]
     },
     "execution_count": 23,
     "metadata": {},
     "output_type": "execute_result"
    }
   ],
   "source": [
    "#Aggregating the dataframe base on days of the week\n",
    "days = daily.groupby(\"day\").mean().drop(['Id'], axis=1)\n",
    "days.head()"
   ]
  },
  {
   "cell_type": "code",
   "execution_count": 32,
   "id": "1e2fac3f",
   "metadata": {},
   "outputs": [
    {
     "data": {
      "image/png": "[encoded data removed]",
      "text/plain": [
       "<Figure size 432x288 with 1 Axes>"
      ]
     },
     "metadata": {},
     "output_type": "display_data"
    }
   ],
   "source": [
    "#Plotting Total \n",
    "days_lab = [\"Monday\",\"Tuesday\", \"Wednesday\", \"Thursday\", \"Friday\", \"Saturday\", \"Sunday\"]\n",
    "\n",
    "plt.bar(days.index,days[\"TotalSteps\"])\n",
    "plt.ylabel(\"Total Steps\")\n",
    "plt.xlabel(\"Days of the week\")\n",
    "plt.title(\"Total Steps VS Days of the week\")\n",
    "plt.xticks(range(7),days_lab, rotation = 90)\n",
    "plt.show()"
   ]
  },
  {
   "cell_type": "markdown",
   "id": "b12c382b",
   "metadata": {},
   "source": [
    "The plot above shows that users take the highest steps on saturday followed by tuesday. Sunday have the lowest total number of steps by users."
   ]
  },
  {
   "cell_type": "code",
   "execution_count": 33,
   "id": "4d71b46d",
   "metadata": {},
   "outputs": [
    {
     "data": {
      "image/png": "[encoded data removed]",
      "text/plain": [
       "<Figure size 432x288 with 1 Axes>"
      ]
     },
     "metadata": {},
     "output_type": "display_data"
    }
   ],
   "source": [
    "plt.bar(days.index,days[\"Calories\"])\n",
    "plt.xticks(range(7),days_lab)\n",
    "plt.ylabel(\"Calories\")\n",
    "plt.xlabel(\"Days of the week\")\n",
    "plt.title(\"Calories VS Days of the week\")\n",
    "plt.xticks(range(7),days_lab, rotation = 90)\n",
    "plt.show()"
   ]
  },
  {
   "cell_type": "markdown",
   "id": "a0d2559d",
   "metadata": {},
   "source": [
    "The calories vs days of the week plot as expected shows that the highest number of calories was on saturday and tuesday. But, the lowest calories was on thursday."
   ]
  },
  {
   "cell_type": "code",
   "execution_count": 36,
   "id": "008c94c4",
   "metadata": {},
   "outputs": [
    {
     "data": {
      "text/plain": [
       "lightly active    27.27\n",
       "fairly active     27.27\n",
       "sedentary         24.24\n",
       "very active       21.21\n",
       "Name: user_type, dtype: float64"
      ]
     },
     "execution_count": 36,
     "metadata": {},
     "output_type": "execute_result"
    }
   ],
   "source": [
    "round(daily_gp['user_type'].value_counts()/33*100,2)"
   ]
  },
  {
   "cell_type": "markdown",
   "id": "ed41e2c8",
   "metadata": {},
   "source": [
    "The distribution of the user can be seen to be unbias to some extent. Very active user are the fewest. Now we visualise the distribution."
   ]
  },
  {
   "cell_type": "code",
   "execution_count": 38,
   "id": "39ff7999",
   "metadata": {},
   "outputs": [
    {
     "data": {
      "image/png": "[encoded data removed]",
      "text/plain": [
       "<Figure size 432x288 with 1 Axes>"
      ]
     },
     "metadata": {},
     "output_type": "display_data"
    }
   ],
   "source": [
    "plt.pie(daily_gp['user_type'].value_counts(),labels = daily_gp['user_type'].value_counts().index, autopct='%1.1f%%')\n",
    "plt.title(\"User Type distribution\")\n",
    "plt.show()"
   ]
  },
  {
   "cell_type": "code",
   "execution_count": 40,
   "id": "13b4ea8b",
   "metadata": {},
   "outputs": [
    {
     "data": {
      "image/png": "[encoded data removed]",
      "text/plain": [
       "<Figure size 432x288 with 1 Axes>"
      ]
     },
     "metadata": {},
     "output_type": "display_data"
    }
   ],
   "source": [
    "sns.boxplot(x=\"user_type\", y = \"Calories\", data = daily_gp, order = [\"very active\", \"fairly active\",\"lightly active\", \"sedentary\"])\n",
    "plt.title(\"Catories by User type\")\n",
    "plt.show()"
   ]
  },
  {
   "cell_type": "markdown",
   "id": "6d9f774c",
   "metadata": {},
   "source": [
    "The calories and user type boxplot shows that active user and fairly user have high calories burn compare to the other two groups. The active user calories varies significant. The lighly active user have the least calories burning."
   ]
  },
  {
   "cell_type": "code",
   "execution_count": 41,
   "id": "639f0bdd",
   "metadata": {},
   "outputs": [],
   "source": [
    "#Adding new column of week days\n",
    "sleep['day'] = pd.to_datetime(sleep[\"SleepDay\"]).dt.weekday"
   ]
  },
  {
   "cell_type": "code",
   "execution_count": 42,
   "id": "34f90401",
   "metadata": {},
   "outputs": [
    {
     "data": {
      "text/html": [
       "<div>\n",
       "<style scoped>\n",
       "    .dataframe tbody tr th:only-of-type {\n",
       "        vertical-align: middle;\n",
       "    }\n",
       "\n",
       "    .dataframe tbody tr th {\n",
       "        vertical-align: top;\n",
       "    }\n",
       "\n",
       "    .dataframe thead th {\n",
       "        text-align: right;\n",
       "    }\n",
       "</style>\n",
       "<table border=\"1\" class=\"dataframe\">\n",
       "  <thead>\n",
       "    <tr style=\"text-align: right;\">\n",
       "      <th></th>\n",
       "      <th>Id</th>\n",
       "      <th>SleepDay</th>\n",
       "      <th>TotalSleepRecords</th>\n",
       "      <th>TotalMinutesAsleep</th>\n",
       "      <th>TotalTimeInBed</th>\n",
       "      <th>day</th>\n",
       "    </tr>\n",
       "  </thead>\n",
       "  <tbody>\n",
       "    <tr>\n",
       "      <th>0</th>\n",
       "      <td>1503960366</td>\n",
       "      <td>4/12/2016 12:00:00 AM</td>\n",
       "      <td>1</td>\n",
       "      <td>327</td>\n",
       "      <td>346</td>\n",
       "      <td>1</td>\n",
       "    </tr>\n",
       "    <tr>\n",
       "      <th>1</th>\n",
       "      <td>1503960366</td>\n",
       "      <td>4/13/2016 12:00:00 AM</td>\n",
       "      <td>2</td>\n",
       "      <td>384</td>\n",
       "      <td>407</td>\n",
       "      <td>2</td>\n",
       "    </tr>\n",
       "    <tr>\n",
       "      <th>2</th>\n",
       "      <td>1503960366</td>\n",
       "      <td>4/15/2016 12:00:00 AM</td>\n",
       "      <td>1</td>\n",
       "      <td>412</td>\n",
       "      <td>442</td>\n",
       "      <td>4</td>\n",
       "    </tr>\n",
       "    <tr>\n",
       "      <th>3</th>\n",
       "      <td>1503960366</td>\n",
       "      <td>4/16/2016 12:00:00 AM</td>\n",
       "      <td>2</td>\n",
       "      <td>340</td>\n",
       "      <td>367</td>\n",
       "      <td>5</td>\n",
       "    </tr>\n",
       "    <tr>\n",
       "      <th>4</th>\n",
       "      <td>1503960366</td>\n",
       "      <td>4/17/2016 12:00:00 AM</td>\n",
       "      <td>1</td>\n",
       "      <td>700</td>\n",
       "      <td>712</td>\n",
       "      <td>6</td>\n",
       "    </tr>\n",
       "  </tbody>\n",
       "</table>\n",
       "</div>"
      ],
      "text/plain": [
       "           Id               SleepDay  TotalSleepRecords  TotalMinutesAsleep  \\\n",
       "0  1503960366  4/12/2016 12:00:00 AM                  1                 327   \n",
       "1  1503960366  4/13/2016 12:00:00 AM                  2                 384   \n",
       "2  1503960366  4/15/2016 12:00:00 AM                  1                 412   \n",
       "3  1503960366  4/16/2016 12:00:00 AM                  2                 340   \n",
       "4  1503960366  4/17/2016 12:00:00 AM                  1                 700   \n",
       "\n",
       "   TotalTimeInBed  day  \n",
       "0             346    1  \n",
       "1             407    2  \n",
       "2             442    4  \n",
       "3             367    5  \n",
       "4             712    6  "
      ]
     },
     "execution_count": 42,
     "metadata": {},
     "output_type": "execute_result"
    }
   ],
   "source": [
    "sleep.head()"
   ]
  },
  {
   "cell_type": "code",
   "execution_count": 43,
   "id": "49793a93",
   "metadata": {},
   "outputs": [
    {
     "data": {
      "image/png": "[encoded data removed]",
      "text/plain": [
       "<Figure size 432x288 with 1 Axes>"
      ]
     },
     "metadata": {},
     "output_type": "display_data"
    }
   ],
   "source": [
    "#Daily combined total minute asleep\n",
    "sns.barplot(x=\"day\", y = \"TotalMinutesAsleep\", estimator = np.mean , data = sleep)\n",
    "plt.title(\"Daily total minutes asleep\")\n",
    "plt.xticks(range(7), days_lab, rotation = 90)\n",
    "plt.show()"
   ]
  },
  {
   "cell_type": "markdown",
   "id": "40c67e76",
   "metadata": {},
   "source": [
    "The users have the highest number of combined daily munite asleep on sunday, followed by wednesday. Its not suprising because sunday has the lowest number of steps by users."
   ]
  },
  {
   "cell_type": "code",
   "execution_count": 47,
   "id": "4184e8bb",
   "metadata": {},
   "outputs": [
    {
     "data": {
      "text/plain": [
       "Text(0.5, 1.0, 'Correlation plot of Calories vs Total step')"
      ]
     },
     "execution_count": 47,
     "metadata": {},
     "output_type": "execute_result"
    },
    {
     "data": {
      "image/png": "[encoded data removed]",
      "text/plain": [
       "<Figure size 432x288 with 2 Axes>"
      ]
     },
     "metadata": {},
     "output_type": "display_data"
    }
   ],
   "source": [
    "#Correlation plot\n",
    "sns.heatmap(daily_gp[[\"TotalSteps\", \"Calories\"]].corr(),annot = True)\n",
    "plt.title(\"Correlation plot of Calories vs Total step\")"
   ]
  },
  {
   "cell_type": "markdown",
   "id": "5af6a0f7",
   "metadata": {},
   "source": [
    "The correlation value between calories and total step is 0.44. The value is a moderate positive correlation value."
   ]
  },
  {
   "cell_type": "code",
   "execution_count": 48,
   "id": "6c2d66c8",
   "metadata": {},
   "outputs": [
    {
     "data": {
      "image/png": "[encoded data removed]",
      "text/plain": [
       "<Figure size 504x504 with 3 Axes>"
      ]
     },
     "metadata": {},
     "output_type": "display_data"
    }
   ],
   "source": [
    "sns.jointplot(x = \"TotalSteps\", y = \"Calories\", \n",
    "                  data = daily_gp,\n",
    "                  kind=\"reg\",\n",
    "                  color=\"m\", height=7)\n",
    "plt.title('Regression plot')\n",
    "plt.show()"
   ]
  },
  {
   "cell_type": "markdown",
   "id": "cd470174",
   "metadata": {},
   "source": [
    "The trend is positive, and the relationship is not strong."
   ]
  },
  {
   "cell_type": "markdown",
   "id": "7317c36c",
   "metadata": {},
   "source": [
    "**Creating a new to count how many times users use the device in a month**"
   ]
  },
  {
   "cell_type": "code",
   "execution_count": 50,
   "id": "5ef3a7cf",
   "metadata": {},
   "outputs": [],
   "source": [
    "daily_gp[\"daily_use\"] = daily.groupby('Id')['ActivityDate'].count()"
   ]
  },
  {
   "cell_type": "code",
   "execution_count": 52,
   "id": "68782781",
   "metadata": {},
   "outputs": [
    {
     "data": {
      "text/plain": [
       "31    21\n",
       "30     3\n",
       "26     2\n",
       "29     2\n",
       "4      1\n",
       "18     1\n",
       "19     1\n",
       "20     1\n",
       "28     1\n",
       "Name: daily_use, dtype: int64"
      ]
     },
     "execution_count": 52,
     "metadata": {},
     "output_type": "execute_result"
    }
   ],
   "source": [
    "#Counting the frequency of the number of days \n",
    "daily_gp.daily_use.value_counts()"
   ]
  },
  {
   "cell_type": "markdown",
   "id": "d35e7807",
   "metadata": {},
   "source": [
    "It can be seen that more that 90% of the user uses the devices more that 20 days in a month."
   ]
  },
  {
   "cell_type": "code",
   "execution_count": 55,
   "id": "72a02f3f",
   "metadata": {},
   "outputs": [],
   "source": [
    "sleep_gr = sleep.groupby('Id').mean()"
   ]
  },
  {
   "cell_type": "code",
   "execution_count": 63,
   "id": "e2c430da",
   "metadata": {},
   "outputs": [],
   "source": [
    "#Combining the sleep dataset and the daily activities dataset\n",
    "combine = sleep_gr.join(daily_gp, on = 'Id')"
   ]
  },
  {
   "cell_type": "code",
   "execution_count": 62,
   "id": "fbdfa577",
   "metadata": {},
   "outputs": [
    {
     "data": {
      "text/plain": [
       "Text(0.5, 1.0, 'Correlation plot Total Minutes Asleep, Total step, and Calories')"
      ]
     },
     "execution_count": 62,
     "metadata": {},
     "output_type": "execute_result"
    },
    {
     "data": {
      "image/png": "[encoded data removed]",
      "text/plain": [
       "<Figure size 432x288 with 2 Axes>"
      ]
     },
     "metadata": {},
     "output_type": "display_data"
    }
   ],
   "source": [
    "#Correlation plot\n",
    "sns.heatmap(combine[[\"TotalMinutesAsleep\", \"TotalSteps\", \"Calories\"]].corr(),annot = True)\n",
    "plt.title(\"Correlation plot Total Minutes Asleep, Total step, and Calories\")"
   ]
  },
  {
   "cell_type": "markdown",
   "id": "545726a2",
   "metadata": {},
   "source": [
    "The plot shows that the correlation between the total minutes asleep and calories is very low and negative. Also, the correlation between the total minutes asleep and total step is low and negative."
   ]
  },
  {
   "cell_type": "markdown",
   "id": "8134752e",
   "metadata": {},
   "source": [
    "## Share Phase"
   ]
  },
  {
   "cell_type": "markdown",
   "id": "3172cb82",
   "metadata": {},
   "source": [
    "### Key Findings\n",
    "\n",
    "The key findings from the analysis:\n",
    "- There exist a moderate relationship between daily total steps, and calories burn.\n",
    "- Users sleep more on Sunday and wednesday\n",
    "- Also, we find out that the higher the step individual takes daily, the lower the amount of time the person will spend sleeping.\n",
    "- Majority of the device users are active user.\n",
    "- People take more steps on saturdays compared to other days.\n",
    "\n",
    "\n",
    "### Recommendations:\n",
    "\n",
    "Base on the trend seen from the analysis, the following recommendations will be made:\n",
    "\n",
    "- The company should focus more on sensitizing the users about the benefits of the devices.\n",
    "- It was observed that mejority of the users make use of their devices, this shows that adding more futures to the device will help them stay glue to using the devices more.\n",
    "- Users with the same demography can be paired, and there should be a users' dashboard where they will be able to see how other users' daily task performance.\n",
    "- Daily target should be considered as a feature to the device.\n",
    "- Also, more users should be added to the data for the analysis to be inferential on a larger populance."
   ]
  },
  {
   "cell_type": "code",
   "execution_count": null,
   "id": "cb16234b",
   "metadata": {},
   "outputs": [],
   "source": []
  }
 ],
 "metadata": {
  "kernelspec": {
   "display_name": "Python 3",
   "language": "python",
   "name": "python3"
  },
  "language_info": {
   "codemirror_mode": {
    "name": "ipython",
    "version": 3
   },
   "file_extension": ".py",
   "mimetype": "text/x-python",
   "name": "python",
   "nbconvert_exporter": "python",
   "pygments_lexer": "ipython3",
   "version": "3.8.8"
  }
 },
 "nbformat": 4,
 "nbformat_minor": 5
}
